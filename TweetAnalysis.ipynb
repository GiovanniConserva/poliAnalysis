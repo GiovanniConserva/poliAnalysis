{
 "cells": [
  {
   "cell_type": "code",
   "execution_count": 51,
   "metadata": {
    "collapsed": false
   },
   "outputs": [],
   "source": [
    "#reference: https://marcobonzanini.com/2015/03/02/mining-twitter-data-with-python-part-1/\n",
    "from pymongo import MongoClient\n",
    "from nltk.tokenize import word_tokenize\n",
    "import pandas as pd\n",
    "import re\n",
    "import operator \n",
    "import json\n",
    "from collections import Counter\n",
    "from nltk.corpus import stopwords\n",
    "import string\n",
    "from collections import defaultdict\n",
    "import vincent"
   ]
  },
  {
   "cell_type": "code",
   "execution_count": 52,
   "metadata": {
    "collapsed": true
   },
   "outputs": [],
   "source": [
    "db_name= \"test3\"\n",
    "collection = \"trumpchina\"\n",
    "#TODO: automatically increment the list of stop words and hashtags\n",
    "personalized_excluded_words = ['Trump', \"Clinton\", \"MAGA\", \"TRUMP\"]\n",
    "personalized_excluded_hashtags = ['#Trump', '#trump', '#TRUMP']"
   ]
  },
  {
   "cell_type": "code",
   "execution_count": 53,
   "metadata": {
    "collapsed": false
   },
   "outputs": [],
   "source": [
    "client = MongoClient()\n",
    "db = client[db_name]\n",
    "coll= db[collection]"
   ]
  },
  {
   "cell_type": "code",
   "execution_count": 54,
   "metadata": {
    "collapsed": false
   },
   "outputs": [],
   "source": [
    "tweets = coll.find()\n",
    "#db.collection.find({ age: { $exists: true } })\n",
    "               \n",
    "tweetsDf = pd.DataFrame(list(tweets))  \n"
   ]
  },
  {
   "cell_type": "code",
   "execution_count": 55,
   "metadata": {
    "collapsed": false
   },
   "outputs": [
    {
     "data": {
      "text/plain": [
       "u'An informative and deeply arresting examination of how competition from China has impacted Americans. Fair trade? https://t.co/UdwsaClbvn'"
      ]
     },
     "execution_count": 55,
     "metadata": {},
     "output_type": "execute_result"
    }
   ],
   "source": [
    "tweets= tweetsDf[\"text\"]\n",
    "tweets[1]"
   ]
  },
  {
   "cell_type": "code",
   "execution_count": 56,
   "metadata": {
    "collapsed": false
   },
   "outputs": [
    {
     "name": "stdout",
     "output_type": "stream",
     "text": [
      "['@gioazzi', ':', 'example', '!', 'http://gioazzi.com', '#democrats', '#republicans']\n"
     ]
    }
   ],
   "source": [
    "emoticons_str = r\"\"\"\n",
    "    (?:\n",
    "        [:=;] # Eyes\n",
    "        [oO\\-]? # Nose (optional)\n",
    "        [D\\)\\]\\(\\]/\\\\OpP] # Mouth\n",
    "    )\"\"\"\n",
    " \n",
    "regex_str = [\n",
    "    emoticons_str,\n",
    "    r'<[^>]+>', # HTML tags\n",
    "    r'(?:@[\\w_]+)', # @-mentions\n",
    "    r\"(?:\\#+[\\w_]+[\\w\\'_\\-]*[\\w_]+)\", # hash-tags\n",
    "    r'http[s]?://(?:[a-z]|[0-9]|[$-_@.&+]|[!*\\(\\),]|(?:%[0-9a-f][0-9a-f]))+', # URLs\n",
    " \n",
    "    r'(?:(?:\\d+,?)+(?:\\.?\\d+)?)', # numbers\n",
    "    r\"(?:[a-z][a-z'\\-_]+[a-z])\", # words with - and '\n",
    "    r'(?:[\\w_]+)', # other words\n",
    "    r'(?:\\S)' # anything else\n",
    "]\n",
    "    \n",
    "tokens_re = re.compile(r'('+'|'.join(regex_str)+')', re.VERBOSE | re.IGNORECASE)\n",
    "emoticon_re = re.compile(r'^'+emoticons_str+'$', re.VERBOSE | re.IGNORECASE)\n",
    " \n",
    "def tokenize(s):\n",
    "    return tokens_re.findall(s)\n",
    " \n",
    "def preprocess(s, lowercase=False):\n",
    "    tokens = tokenize(s)\n",
    "    if lowercase:\n",
    "        tokens = [token if emoticon_re.search(token) else token.lower() for token in tokens]\n",
    "    return tokens\n",
    " \n",
    "tweet = \"@gioazzi: example!  http://gioazzi.com #democrats #republicans \"\n",
    "print(preprocess(tweet))\n",
    "# ['RT', '@marcobonzanini', ':', 'just', 'an', 'example', '!', ':D', 'http://example.com', '#NLP']\n"
   ]
  },
  {
   "cell_type": "code",
   "execution_count": 57,
   "metadata": {
    "collapsed": false
   },
   "outputs": [
    {
     "name": "stdout",
     "output_type": "stream",
     "text": [
      "[((u'\\ud83c', u'\\ud83d'), 3117), ((u'\\ud83c', u'\\udc4e'), 2180), ((u'\\ud83d', u'\\udc4e'), 2180), ((u'\\ud83c', u'\\udffd'), 2178), ((u'\\ud83d', u'\\udffd'), 2178)]\n"
     ]
    }
   ],
   "source": [
    "#TODO: escape emoticons errors\n",
    "\n",
    "com = defaultdict(lambda : defaultdict(int))\n",
    "count_all = Counter()\n",
    "count_all_single = Counter()\n",
    "count_all_hash = Counter()\n",
    "count_all_terms = Counter()\n",
    "punctuation = list(string.punctuation)\n",
    "\n",
    "stop = stopwords.words('english') + punctuation + personalized_excluded_words +personalized_excluded_hashtags #+com\n",
    "\n",
    "for index,row in tweetsDf.iterrows():\n",
    "\n",
    "    terms_stop = [term for term in preprocess(row[\"text\"]) if term not in stop]\n",
    "    terms_all = [term for term in preprocess(row[\"text\"]) if term not in stop]\n",
    "    # Update the counter\n",
    "    count_all.update(terms_all) \n",
    "    # Count terms only once, equivalent to Document Frequency\n",
    "    terms_single = set(terms_all)\n",
    "    count_all_single.update(terms_single)\n",
    "    # Count hashtags only\n",
    "    terms_hash = [term for term in preprocess(row[\"text\"]) \n",
    "                  if term.startswith('#') and term not in stop]\n",
    "    count_all_hash.update(terms_hash)\n",
    "    # Count terms only (no hashtags, no mentions)\n",
    "    terms_only = [term for term in preprocess(row[\"text\"]) \n",
    "                  if term not in stop and\n",
    "                  not term.startswith(('#', '@'))] \n",
    "                  # mind the ((double brackets))\n",
    "                  # startswith() takes a tuple (not a list) if \n",
    "                  # we pass a list of inputs\n",
    "    count_all_terms.update(terms_only)    \n",
    "    # Build co-occurrence matrix\n",
    "    for i in range(len(terms_only)-1):            \n",
    "        for j in range(i+1, len(terms_only)):\n",
    "            w1, w2 = sorted([terms_only[i], terms_only[j]])                \n",
    "            if w1 != w2:\n",
    "                com[w1][w2] += 1\n",
    "                \n",
    "\n",
    "                \n",
    "com_max = []\n",
    "# For each term, look for the most common co-occurrent terms\n",
    "for t1 in com:\n",
    "    t1_max_terms = sorted(com[t1].items(), key=operator.itemgetter(1), reverse=True)[:5]\n",
    "    for t2, t2_count in t1_max_terms:\n",
    "        com_max.append(((t1, t2), t2_count))\n",
    "# Get the most frequent co-occurrences\n",
    "terms_max = sorted(com_max, key=operator.itemgetter(1), reverse=True)\n",
    "\n",
    "print(terms_max[:5])                \n",
    "                "
   ]
  },
  {
   "cell_type": "code",
   "execution_count": 58,
   "metadata": {
    "collapsed": false
   },
   "outputs": [
    {
     "name": "stdout",
     "output_type": "stream",
     "text": [
      "[(u'#China', 2148), (u'China', 1259), (u'\\ud83c', 1057), (u'made', 432), (u'\\u2019', 403), (u'amp', 333), (u'How', 314), (u'The', 283), (u'Donald', 279), (u'\\ud83d', 270), (u'#Russia', 264), (u'#USA', 238), (u'via', 232), (u'#china', 229), (u'I', 173)]\n",
      "[(u'#China', 2105), (u'China', 1150), (u'\\u2019', 327), (u'How', 313), (u'made', 304), (u'amp', 284), (u'The', 275), (u'Donald', 275), (u'#Russia', 262), (u'#USA', 238), (u'via', 232), (u'#china', 229), (u'\\ud83d', 175), (u\"don't\", 163), (u'Hillary', 160)]\n",
      "[(u'#China', 2148), (u'#Russia', 264), (u'#USA', 238), (u'#china', 229), (u'#GOP', 150), (u'#LA', 141), (u'#NYC', 131), (u\"#Trump's\", 126), (u'#Bangladesh', 117), (u'#RT', 116), (u'#Haaretz', 116), (u'#Clinton', 113), (u'#foxnews', 110), (u'#NRA', 109), (u'#news', 109)]\n",
      "[(u'China', 1259), (u'\\ud83c', 1057), (u'made', 432), (u'\\u2019', 403), (u'amp', 333), (u'How', 314), (u'The', 283), (u'Donald', 279), (u'\\ud83d', 270), (u'via', 232), (u'I', 173), (u\"don't\", 165), (u'Hillary', 162), (u'US', 161), (u'trade', 160)]\n"
     ]
    }
   ],
   "source": [
    "print(count_all.most_common(15))\n",
    "print(count_all_single.most_common(15))\n",
    "print(count_all_hash.most_common(15))\n",
    "print(count_all_terms.most_common(15))"
   ]
  },
  {
   "cell_type": "code",
   "execution_count": 59,
   "metadata": {
    "collapsed": false
   },
   "outputs": [],
   "source": [
    "'''\n",
    "TO PLOT: \n",
    "Run the server:\n",
    "python -m http.server 8888 # Python 3\n",
    "python -m SimpleHTTPServer 8888 # Python 2\n",
    "\n",
    "in chart.html uncomment this line: parse(\"term_freq.json\");\n",
    "\n",
    "open\n",
    "http://localhost:8888/chart.html\n",
    "'''\n",
    "\n",
    "#prepare data to plot a barchar of the most frequent terms\n",
    "word_freq = count_all_terms.most_common(20)\n",
    "labels, freq = zip(*word_freq)\n",
    "data = {'data': freq, 'x': labels}\n",
    "bar = vincent.Bar(data, iter_idx='x')\n",
    "bar.to_json('term_freq.json')"
   ]
  },
  {
   "cell_type": "code",
   "execution_count": 60,
   "metadata": {
    "collapsed": false
   },
   "outputs": [
    {
     "name": "stdout",
     "output_type": "stream",
     "text": [
      "done\n"
     ]
    }
   ],
   "source": [
    "#prepare data to plot timeseries of some terms/hashtags in the dates_dict\n",
    "\n",
    "'''\n",
    "TO PLOT: \n",
    "Run the server:\n",
    "python -m http.server 8888 # Python 3\n",
    "python -m SimpleHTTPServer 8888 # Python 2\n",
    "\n",
    "in chart.html uncomment this line: parse(\"time_chart.json\");\n",
    "\n",
    "open\n",
    "http://localhost:8888/chart.html\n",
    "'''\n",
    "data_types= ['hashtag','words','accounts']\n",
    "chosen_type = data_types[0]\n",
    "\n",
    "time_span='10Min'\n",
    "dates_dict = {'#trump2016':[], '#democrats':[] }\n",
    "\n",
    "for index,row in tweetsDf.iterrows(): \n",
    "    if chosen_type== 'hashtag':\n",
    "        terms = [term for term in preprocess(row['text']) if term.startswith('#')]\n",
    "    if chosen_type== 'words':\n",
    "        terms = [term for term in preprocess(row['text']) if not term.startswith(('#', '@'))]\n",
    "    if chosen_type== 'accounts':\n",
    "        terms = [term for term in preprocess(row['text']) if term.startswith('@')]\n",
    "\n",
    "    # track when the hashtag is mentioned\n",
    "    for key in dates_dict:\n",
    "        if key in terms:\n",
    "            dates_dict[key].append(row['raw']['created_at'])\n",
    "             \n",
    "# a list of \"1\" to count the hashtags\n",
    "ones= {}\n",
    "idx={}\n",
    "dataframes={}\n",
    "per_minute={}\n",
    "for key in dates_dict:\n",
    "    \n",
    "    ones[key] = [1]*len(dates_dict[key])\n",
    "    # the index of the series\n",
    "    idx[key] = pd.DatetimeIndex(dates_dict[key])\n",
    "    # the actual series (at series of 1s for the moment)\n",
    "    dataframes[key] = pd.Series(ones[key], index=idx[key])\n",
    " \n",
    "    # Resampling / bucketing\n",
    "    per_minute[key] = dataframes[key].resample(time_span, how='sum').fillna(0)\n",
    "print \"done\"\n",
    "#print per_minute"
   ]
  },
  {
   "cell_type": "code",
   "execution_count": 61,
   "metadata": {
    "collapsed": false
   },
   "outputs": [],
   "source": [
    "# all the data together\n",
    "match_data = per_minute\n",
    "# we need a DataFrame, to accommodate multiple series\n",
    "all_matches = pd.DataFrame(data=match_data,\n",
    "                               index=per_minute['#trump2016'].index)\n",
    "# Resampling \n",
    "all_matches = all_matches.resample(time_span, how='sum').fillna(0)\n",
    " \n",
    "# and now the plotting\n",
    "time_chart = vincent.Line(all_matches[list(match_data.keys())])\n",
    "time_chart.axis_titles(x='Time', y='Freq')\n",
    "time_chart.legend(title='Matches')\n",
    "time_chart.to_json('time_chart.json')"
   ]
  },
  {
   "cell_type": "code",
   "execution_count": 62,
   "metadata": {
    "collapsed": false
   },
   "outputs": [],
   "source": [
    "#prepare data to plot geolocated graphs\n",
    "\n",
    "#TO PLOT: http://geojson.io/#map=2/20.0/0.0\n",
    "\n",
    "geo_data = {\n",
    "    \"type\": \"FeatureCollection\",\n",
    "    \"features\": []\n",
    "}\n",
    "for index,row in tweetsDf.iterrows():\n",
    "    if row['raw']['coordinates']:\n",
    "        geo_json_feature = {\n",
    "            \"type\": \"Feature\",\n",
    "            \"geometry\": row['raw']['coordinates'],\n",
    "            \"properties\": {\n",
    "                \"text\": row['text'],\n",
    "                \"created_at\": row['raw']['created_at']\n",
    "            }\n",
    "        }\n",
    "        geo_data['features'].append(geo_json_feature)\n",
    " \n",
    "# Save geo data\n",
    "with open('geo_data.json', 'w') as fout:\n",
    "    fout.write(json.dumps(geo_data, indent=4))"
   ]
  },
  {
   "cell_type": "code",
   "execution_count": 63,
   "metadata": {
    "collapsed": false
   },
   "outputs": [
    {
     "data": {
      "text/plain": [
       "'\\nBigrams: not used yet\\nfrom nltk import bigrams \\nterms_bigram = bigrams(terms_stop)\\n'"
      ]
     },
     "execution_count": 63,
     "metadata": {},
     "output_type": "execute_result"
    }
   ],
   "source": [
    "'''\n",
    "Bigrams: not used yet\n",
    "from nltk import bigrams \n",
    "terms_bigram = bigrams(terms_stop)\n",
    "'''"
   ]
  }
 ],
 "metadata": {
  "kernelspec": {
   "display_name": "Python 2",
   "language": "python",
   "name": "python2"
  },
  "language_info": {
   "codemirror_mode": {
    "name": "ipython",
    "version": 2
   },
   "file_extension": ".py",
   "mimetype": "text/x-python",
   "name": "python",
   "nbconvert_exporter": "python",
   "pygments_lexer": "ipython2",
   "version": "2.7.11"
  }
 },
 "nbformat": 4,
 "nbformat_minor": 0
}
